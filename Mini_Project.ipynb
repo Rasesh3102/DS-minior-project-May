{
  "nbformat": 4,
  "nbformat_minor": 0,
  "metadata": {
    "colab": {
      "name": "Mini Project.ipynb",
      "provenance": [],
      "collapsed_sections": [],
      "include_colab_link": true
    },
    "kernelspec": {
      "name": "python3",
      "display_name": "Python 3"
    },
    "language_info": {
      "name": "python"
    }
  },
  "cells": [
    {
      "cell_type": "markdown",
      "metadata": {
        "id": "view-in-github",
        "colab_type": "text"
      },
      "source": [
        "<a href=\"https://colab.research.google.com/github/Rasesh3102/DS-minior-project-May/blob/main/Mini_Project.ipynb\" target=\"_parent\"><img src=\"https://colab.research.google.com/assets/colab-badge.svg\" alt=\"Open In Colab\"/></a>"
      ]
    },
    {
      "cell_type": "code",
      "metadata": {
        "id": "aaBVqjrUVhFp"
      },
      "source": [
        "!pip install bing-image-downloader"
      ],
      "execution_count": null,
      "outputs": []
    },
    {
      "cell_type": "code",
      "metadata": {
        "id": "m3Epe3zzWKTK"
      },
      "source": [
        "!mkdir images"
      ],
      "execution_count": null,
      "outputs": []
    },
    {
      "cell_type": "code",
      "metadata": {
        "id": "f-N6EqP5We6Z"
      },
      "source": [
        "from bing_image_downloader import downloader\n",
        "downloader.download(\"dogs\",limit=50,output_dir='images',adult_filter_off=True)"
      ],
      "execution_count": null,
      "outputs": []
    },
    {
      "cell_type": "code",
      "metadata": {
        "id": "WaN_yVNTZh3i"
      },
      "source": [
        "from bing_image_downloader import downloader\n",
        "downloader.download(\"elephant\",limit=50,output_dir='images',adult_filter_off=True)"
      ],
      "execution_count": null,
      "outputs": []
    },
    {
      "cell_type": "code",
      "metadata": {
        "id": "Zk1LkgcUbQFI"
      },
      "source": [
        "from bing_image_downloader import downloader\n",
        "downloader.download(\"Modern Cars\",limit=50,output_dir='images',adult_filter_off=True)"
      ],
      "execution_count": null,
      "outputs": []
    },
    {
      "cell_type": "code",
      "metadata": {
        "id": "7rTFqEVhcPFZ"
      },
      "source": [
        "!pip install ipython-autotime\n",
        "%load_ext autotime"
      ],
      "execution_count": null,
      "outputs": []
    },
    {
      "cell_type": "code",
      "metadata": {
        "id": "dIP8BTrSc0ZR"
      },
      "source": [
        "import os\n",
        "import matplotlib.pyplot as plt\n",
        "import numpy as np\n",
        "from skimage.io import imread\n",
        "from skimage.transform import resize\n",
        "target=[]\n",
        "images=[]\n",
        "flat_data=[]\n",
        "DATADIR='/content/images'\n",
        "CATEGORIES=['dogs','elephant','Modern Cars']\n",
        "for category in CATEGORIES:\n",
        "  class_num=CATEGORIES.index(category)\n",
        "  path=os.path.join(DATADIR,category)\n",
        "  for img in os.listdir(path):\n",
        "    img_array=imread(os.path.join(path,img))\n",
        "    #plt.imshow(img_array)\n",
        "    img_resized=resize(img_array,(150,150,3))\n",
        "    flat_data.append(img_resized.flatten())\n",
        "    images.append(img_resized)\n",
        "    target.append(class_num)\n",
        "flat_data=np.array(flat_data)\n",
        "target=np.array(target)\n",
        "images=np.array(images)\n",
        "    \n",
        "\n"
      ],
      "execution_count": null,
      "outputs": []
    },
    {
      "cell_type": "code",
      "metadata": {
        "id": "SV2ffFXzlcJ4"
      },
      "source": [
        "from sklearn.model_selection import train_test_split\n",
        "x_train,x_test,y_train,y_test=train_test_split(flat_data,target,test_size=0.3,random_state=100)\n"
      ],
      "execution_count": null,
      "outputs": []
    },
    {
      "cell_type": "code",
      "metadata": {
        "id": "qRlM2K1qoDLg"
      },
      "source": [
        "from sklearn.model_selection import GridSearchCV\n",
        "from sklearn import svm\n",
        "param_grid=[\n",
        "            {'C':[1,10,100,1000],'kernel':['linear']},\n",
        "            {'C':[1,10,100,1000],'gamma':[0.001,0.0001],'kernel':['rbf']},\n",
        "]\n",
        "svc=svm.SVC(probability=True)\n",
        "clf=GridSearchCV(svc,param_grid)\n",
        "clf.fit(x_train,y_train)"
      ],
      "execution_count": null,
      "outputs": []
    },
    {
      "cell_type": "code",
      "metadata": {
        "id": "jsx5YreqrVeN"
      },
      "source": [
        "y_pred=clf.predict(x_test)\n",
        "y_pred"
      ],
      "execution_count": null,
      "outputs": []
    },
    {
      "cell_type": "code",
      "metadata": {
        "id": "LLdGgbO8rmMR"
      },
      "source": [
        "from sklearn.metrics import accuracy_score,confusion_matrix"
      ],
      "execution_count": null,
      "outputs": []
    },
    {
      "cell_type": "code",
      "metadata": {
        "id": "28BfplB5r4LA"
      },
      "source": [
        "accuracy_score(y_pred,y_test)"
      ],
      "execution_count": null,
      "outputs": []
    },
    {
      "cell_type": "code",
      "metadata": {
        "id": "Y8dAGm7hrVbX"
      },
      "source": [
        "import pickle\n",
        "pickle.dump(clf,open('img_model.p','wb'))"
      ],
      "execution_count": null,
      "outputs": []
    },
    {
      "cell_type": "code",
      "metadata": {
        "id": "KgQFzjlVxdS6"
      },
      "source": [
        "model=pickle.load(open('img_model.p','rb'))"
      ],
      "execution_count": null,
      "outputs": []
    },
    {
      "cell_type": "code",
      "metadata": {
        "id": "u2rfKfwQs4VC"
      },
      "source": [
        "flat_data=[]\n",
        "url=input('enter your url')\n",
        "img=imread(url)\n",
        "img_resized=resize(img,(150,150,3))\n",
        "flat_data.append(img_resized.flatten())\n",
        "flat_data=np.array(flat_data)\n",
        "print(img.shape)\n",
        "plt.imshow(img_resized)\n",
        "y_out=model.predict(flat_data)\n",
        "y_out=CATEGORIES[y_out[0]]\n",
        "print(f'PREDICTED OUTPUT:{y_out}')\n"
      ],
      "execution_count": null,
      "outputs": []
    }
  ]
}