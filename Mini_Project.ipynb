{
  "nbformat": 4,
  "nbformat_minor": 0,
  "metadata": {
    "colab": {
      "name": "Mini Project.ipynb",
      "provenance": [],
      "collapsed_sections": [],
      "include_colab_link": true
    },
    "kernelspec": {
      "name": "python3",
      "display_name": "Python 3"
    },
    "language_info": {
      "name": "python"
    }
  },
  "cells": [
    {
      "cell_type": "markdown",
      "metadata": {
        "id": "view-in-github",
        "colab_type": "text"
      },
      "source": [
        "<a href=\"https://colab.research.google.com/github/Rasesh3102/DS-minior-project-May/blob/main/Mini_Project.ipynb\" target=\"_parent\"><img src=\"https://colab.research.google.com/assets/colab-badge.svg\" alt=\"Open In Colab\"/></a>"
      ]
    },
    {
      "cell_type": "code",
      "metadata": {
        "id": "aaBVqjrUVhFp",
        "colab": {
          "base_uri": "https://localhost:8080/"
        },
        "outputId": "13162456-4926-48e9-e568-aa5b5417f937"
      },
      "source": [
        "!pip install bing-image-downloader"
      ],
      "execution_count": null,
      "outputs": [
        {
          "output_type": "stream",
          "text": [
            "Collecting bing-image-downloader\n",
            "  Downloading https://files.pythonhosted.org/packages/c2/04/1872a689a30036aa0b81ac9fca124a7413cad71fdab714f727cf1a34b671/bing_image_downloader-1.1.1-py3-none-any.whl\n",
            "Installing collected packages: bing-image-downloader\n",
            "Successfully installed bing-image-downloader-1.1.1\n"
          ],
          "name": "stdout"
        }
      ]
    },
    {
      "cell_type": "code",
      "metadata": {
        "id": "m3Epe3zzWKTK"
      },
      "source": [
        "!mkdir images"
      ],
      "execution_count": null,
      "outputs": []
    },
    {
      "cell_type": "code",
      "metadata": {
        "id": "f-N6EqP5We6Z",
        "colab": {
          "base_uri": "https://localhost:8080/"
        },
        "outputId": "a56e1e97-809a-4ce4-dce7-f428681e7b66"
      },
      "source": [
        "from bing_image_downloader import downloader\n",
        "downloader.download(\"dogs\",limit=50,output_dir='images',adult_filter_off=True)"
      ],
      "execution_count": null,
      "outputs": [
        {
          "output_type": "stream",
          "text": [
            "[%] Downloading Images to /content/images/dogs\n",
            "\n",
            "\n",
            "[!!]Indexing page: 1\n",
            "\n",
            "[%] Indexed 50 Images on Page 1.\n",
            "\n",
            "===============================================\n",
            "\n",
            "[%] Downloading Image #1 from https://i.pinimg.com/originals/ef/14/32/ef1432cf6e4e96b0aa5dbb2662db797e.jpg\n",
            "[%] File Downloaded !\n",
            "\n",
            "[%] Downloading Image #2 from http://trueworkingdogs.com/wp-content/uploads/20170312_105719.jpg\n",
            "[%] File Downloaded !\n",
            "\n",
            "[%] Downloading Image #3 from https://trueworkingdogs.com/wp-content/uploads/20180422_150726.jpg\n",
            "[%] File Downloaded !\n",
            "\n",
            "[%] Downloading Image #4 from https://trueworkingdogs.com/wp-content/uploads/20180422_151229.jpg\n",
            "[%] File Downloaded !\n",
            "\n",
            "[%] Downloading Image #5 from http://trueworkingdogs.com/wp-content/uploads/20170312_105910.jpg\n",
            "[%] File Downloaded !\n",
            "\n",
            "[%] Downloading Image #6 from https://i.pinimg.com/originals/8b/7a/09/8b7a09e00936e33bfd441506b6592e45.jpg\n",
            "[%] File Downloaded !\n",
            "\n",
            "[%] Downloading Image #7 from https://img1.grunge.com/img/gallery/false-facts-about-dogs-you-always-thought-were-true/intro.jpg\n",
            "[%] File Downloaded !\n",
            "\n",
            "[%] Downloading Image #8 from https://trueworkingdogs.com/wp-content/uploads/20170312_104955.jpg\n",
            "[%] File Downloaded !\n",
            "\n",
            "[%] Downloading Image #9 from https://i.pinimg.com/originals/3b/4b/f8/3b4bf81c996cccd1656a9682f5f4c6a8.jpg\n",
            "[%] File Downloaded !\n",
            "\n",
            "[%] Downloading Image #10 from https://trueworkingdogs.com/wp-content/uploads/20170312_110210.jpg\n",
            "[%] File Downloaded !\n",
            "\n",
            "[%] Downloading Image #11 from https://img4.grunge.com/img/uploads/2016/12/false-facts-about-dogs-you-always-thought-were-true-780x438_rev1.jpg\n",
            "[%] File Downloaded !\n",
            "\n",
            "[%] Downloading Image #12 from https://trueworkingdogs.com/wp-content/uploads/20180422_152202.jpg\n",
            "[%] File Downloaded !\n",
            "\n",
            "[%] Downloading Image #13 from https://i.pinimg.com/736x/d9/21/69/d92169ccc58ddf78be18abf923d884a9.jpg\n",
            "[%] File Downloaded !\n",
            "\n",
            "[%] Downloading Image #14 from https://trueworkingdogs.com/wp-content/uploads/20180422_151149.jpg\n",
            "[%] File Downloaded !\n",
            "\n",
            "[%] Downloading Image #15 from https://i.ytimg.com/vi/DXIWEFq_51E/maxresdefault.jpg\n",
            "[%] File Downloaded !\n",
            "\n",
            "[%] Downloading Image #16 from https://i.pinimg.com/originals/64/9a/05/649a0559b7cdc3fdb07c5ae263f7bde1.jpg\n",
            "[%] File Downloaded !\n",
            "\n",
            "[%] Downloading Image #17 from https://trueworkingdogs.com/wp-content/uploads/20170312_103804.jpg\n",
            "[%] File Downloaded !\n",
            "\n",
            "[%] Downloading Image #18 from https://i.pinimg.com/736x/8a/ef/cb/8aefcb012ab66f89ff73f29a11fa0e96.jpg\n",
            "[%] File Downloaded !\n",
            "\n",
            "[%] Downloading Image #19 from http://villemagazine.com/images/easyblog_articles/257/true-dog-parent.jpg\n",
            "[%] File Downloaded !\n",
            "\n",
            "[%] Downloading Image #20 from http://img1.grunge.com/img/gallery/false-facts-about-dogs-you-always-thought-were-true/dogs-will-only-respect-their-alpha.jpg\n",
            "[%] File Downloaded !\n",
            "\n",
            "[%] Downloading Image #21 from https://trueworkingdogs.com/wp-content/uploads/20180422_152127.jpg\n",
            "[%] File Downloaded !\n",
            "\n",
            "[%] Downloading Image #22 from http://englishrussia.com/wp-content/uploads/2015/04/234.jpg\n",
            "[%] File Downloaded !\n",
            "\n",
            "[%] Downloading Image #23 from https://i.pinimg.com/originals/7b/9c/0f/7b9c0f2fbec3988c4064f28b77b6d075.jpg\n",
            "[%] File Downloaded !\n",
            "\n",
            "[%] Downloading Image #24 from https://i.pinimg.com/736x/f1/56/bc/f156bc549a01506746a65909c4b95699.jpg\n",
            "[%] File Downloaded !\n",
            "\n",
            "[%] Downloading Image #25 from https://images.fineartamerica.com/images/artworkimages/mediumlarge/1/true-love-4-dogs-dribble-dawn-hay.jpg\n",
            "[%] File Downloaded !\n",
            "\n",
            "[%] Downloading Image #26 from https://petrage.net/wp-content/uploads/2020/02/fbkboxers.jpg\n",
            "[%] File Downloaded !\n",
            "\n",
            "[%] Downloading Image #27 from https://i.pinimg.com/originals/f6/ed/93/f6ed93428da9a0fde9154dce09485727.jpg\n",
            "[%] File Downloaded !\n",
            "\n",
            "[%] Downloading Image #28 from https://trueworkingdogs.com/wp-content/uploads/20180422_151637-768x596.jpg\n",
            "[%] File Downloaded !\n",
            "\n",
            "[%] Downloading Image #29 from https://soundstrue-ha.s3.amazonaws.com/mandala/images/dogs/finn.jpg\n",
            "[%] File Downloaded !\n",
            "\n",
            "[%] Downloading Image #30 from https://i.ytimg.com/vi/UJZ435NBlfM/maxresdefault.jpg\n",
            "[%] File Downloaded !\n",
            "\n",
            "[%] Downloading Image #31 from https://trueworkingdogs.com/wp-content/uploads/20180422_152111.jpg\n",
            "[%] File Downloaded !\n",
            "\n",
            "[%] Downloading Image #32 from https://cdn.acidcow.com/pics/20110823/dogs_in_laps_17.jpg\n",
            "[%] File Downloaded !\n",
            "\n",
            "[%] Downloading Image #33 from http://trueworkingdogs.com/wp-content/uploads/20180422_152151.jpg\n",
            "[%] File Downloaded !\n",
            "\n",
            "[%] Downloading Image #34 from https://i.pinimg.com/originals/55/36/99/5536998bf06f514a16f97c2080dd0d8f.png\n",
            "[%] File Downloaded !\n",
            "\n",
            "[%] Downloading Image #35 from http://englishrussia.com/wp-content/uploads/2015/04/318.jpg\n",
            "[%] File Downloaded !\n",
            "\n",
            "[%] Downloading Image #36 from https://cdn.acidcow.com/pics/20110823/dogs_in_laps_05.jpg\n",
            "[%] File Downloaded !\n",
            "\n",
            "[%] Downloading Image #37 from http://piximus.net/media/4153/dogs-true-friendship-12.jpg\n",
            "[%] File Downloaded !\n",
            "\n",
            "[%] Downloading Image #38 from http://englishrussia.com/wp-content/uploads/2015/04/532.jpg\n",
            "[%] File Downloaded !\n",
            "\n",
            "[%] Downloading Image #39 from http://englishrussia.com/wp-content/uploads/2015/04/304.jpg\n",
            "[%] File Downloaded !\n",
            "\n",
            "[%] Downloading Image #40 from http://englishrussia.com/wp-content/uploads/2015/04/139.jpg\n",
            "[%] File Downloaded !\n",
            "\n",
            "[%] Downloading Image #41 from http://englishrussia.com/wp-content/uploads/2015/04/516.jpg\n",
            "[%] File Downloaded !\n",
            "\n",
            "[%] Downloading Image #42 from https://cdn.newsapi.com.au/image/v1/6808d118b7d755cd8679580dd61b5fa5\n",
            "[%] File Downloaded !\n",
            "\n",
            "[%] Downloading Image #43 from https://i.ytimg.com/vi/apnDp6oQLdw/maxresdefault.jpg\n",
            "[%] File Downloaded !\n",
            "\n",
            "[%] Downloading Image #44 from http://piximus.net/media/4153/dogs-true-friendship-1.jpg\n",
            "[%] File Downloaded !\n",
            "\n",
            "[%] Downloading Image #45 from https://i.pinimg.com/originals/da/df/35/dadf3598b5489228759669a713aa2993.jpg\n",
            "[%] File Downloaded !\n",
            "\n",
            "[%] Downloading Image #46 from https://petstips.net/wp-content/uploads/2019/06/Dogs-YUP-VERY-VERY-TRUE-dog-train-training-dogtraining.jpg\n",
            "[%] File Downloaded !\n",
            "\n",
            "[%] Downloading Image #47 from http://www.shedoesthecity.com/wp-content/uploads/files/2013/05/marshall-1.jpg\n",
            "[%] File Downloaded !\n",
            "\n",
            "[%] Downloading Image #48 from https://i.pinimg.com/originals/4f/82/9e/4f829e141b00a7c9253846bb5fd26a92.jpg\n",
            "[%] File Downloaded !\n",
            "\n",
            "[%] Downloading Image #49 from https://i.pinimg.com/originals/a3/d7/96/a3d796ec1e7166a8de6369fd353121a0.jpg\n",
            "[%] File Downloaded !\n",
            "\n",
            "[%] Downloading Image #50 from https://www.lantmannen-unibake.com/globalassets/finland-fi_fi/decks--images/f-1140x400---limit-spot-1/recipes-1140x400--233x233/1140x400-true-dogs-lankkar.png?preset=w1200,s0\n",
            "[%] File Downloaded !\n",
            "\n",
            "\n",
            "\n",
            "[%] Done. Downloaded 50 images.\n",
            "===============================================\n",
            "\n",
            "Please show your support here\n",
            "https://www.buymeacoffee.com/gurugaurav\n",
            "\n",
            "===============================================\n",
            "\n"
          ],
          "name": "stdout"
        }
      ]
    },
    {
      "cell_type": "code",
      "metadata": {
        "id": "WaN_yVNTZh3i",
        "colab": {
          "base_uri": "https://localhost:8080/"
        },
        "outputId": "a9d06107-2cd8-4ea0-c2fc-00efd2f78e32"
      },
      "source": [
        "from bing_image_downloader import downloader\n",
        "downloader.download(\"elephant\",limit=50,output_dir='images',adult_filter_off=True)"
      ],
      "execution_count": 40,
      "outputs": [
        {
          "output_type": "stream",
          "text": [
            "[%] Downloading Images to /content/images/elephant\n",
            "\n",
            "\n",
            "[!!]Indexing page: 1\n",
            "\n",
            "[%] Indexed 50 Images on Page 1.\n",
            "\n",
            "===============================================\n",
            "\n",
            "[%] Downloading Image #1 from https://www.willflyforfood.net/wp-content/uploads/2018/02/elephant-nature-park-featured-1024x683.jpg\n",
            "[%] File Downloaded !\n",
            "\n",
            "[%] Downloading Image #2 from https://i.pinimg.com/736x/13/5c/6b/135c6bf0212ab94c7c196a179dff8040--the-elephants.jpg\n",
            "[%] File Downloaded !\n",
            "\n",
            "[%] Downloading Image #3 from https://i2.wp.com/www.mahohboh.org/wp-content/uploads/2018/10/tga-to-great-a-number-1.jpg?resize=800%2C445&amp;ssl=1\n",
            "[%] File Downloaded !\n",
            "\n",
            "[%] Downloading Image #4 from https://www.googleapis.com/download/storage/v1/b/sharable_images/o/57459a2e-4c09-40bd-8a40-626ee825c72d_background.png?generation=1595059869448465&amp;alt=media\n",
            "[!] Issue getting: https://www.googleapis.com/download/storage/v1/b/sharable_images/o/57459a2e-4c09-40bd-8a40-626ee825c72d_background.png?generation=1595059869448465&amp;alt=media\n",
            "[!] Error:: HTTP Error 400: Bad Request\n",
            "[%] Downloading Image #4 from https://static.wixstatic.com/media/3b9838_d8ac073128c14b8c8501a2ca2b7bdb48~mv2_d_2000_1333_s_2.jpeg/v1/fit/w_1000%2Ch_1000%2Cal_c%2Cq_80/file.png\n",
            "[%] File Downloaded !\n",
            "\n",
            "[%] Downloading Image #5 from https://i.pinimg.com/originals/e8/56/9a/e8569a7003c4b7b71b1da3d4083be69f.jpg\n",
            "[%] File Downloaded !\n",
            "\n",
            "[%] Downloading Image #6 from https://www.willflyforfood.net/wp-content/uploads/2018/02/elephant-nature-park23.jpg\n",
            "[%] File Downloaded !\n",
            "\n",
            "[%] Downloading Image #7 from http://teacaketravels.com/wp-content/uploads/2015/09/True-Strength.jpg\n",
            "[%] File Downloaded !\n",
            "\n",
            "[%] Downloading Image #8 from http://i1.wp.com/delphinedutoit.ca/wp-content/uploads/2016/03/IMG_3978-2.jpg\n",
            "[%] File Downloaded !\n",
            "\n",
            "[%] Downloading Image #9 from http://3.bp.blogspot.com/-ZqeUNyiGUEY/UCmoXJLxkuI/AAAAAAAABhQ/NGqD6Jdixwg/s1600/Sri+Lankan-Elephant-1.JPG\n",
            "[%] File Downloaded !\n",
            "\n",
            "[%] Downloading Image #10 from https://www.willflyforfood.net/wp-content/uploads/2018/02/elephant-nature-park20.jpg\n",
            "[%] File Downloaded !\n",
            "\n",
            "[%] Downloading Image #11 from https://i.pinimg.com/originals/66/98/8b/66988b0eafccaed52428807956d6f56c.jpg\n",
            "[%] File Downloaded !\n",
            "\n",
            "[%] Downloading Image #12 from https://www.merrystour.com/wp-content/uploads/2020/01/ELEPHANT-TREKKING-2.jpg\n",
            "[%] File Downloaded !\n",
            "\n",
            "[%] Downloading Image #13 from https://i.ytimg.com/vi/o5zmbahlO6U/maxresdefault.jpg\n",
            "[%] File Downloaded !\n",
            "\n",
            "[%] Downloading Image #14 from https://s24990.pcdn.co/wp-content/uploads/2016/06/Craigs-Elephants1-1024x768.jpg\n",
            "[%] File Downloaded !\n",
            "\n",
            "[%] Downloading Image #15 from https://usercontent2.hubstatic.com/6908499.jpg\n",
            "[%] File Downloaded !\n",
            "\n",
            "[%] Downloading Image #16 from https://i.pinimg.com/originals/d6/87/8e/d6878ef37669f978690e2694800a75d6.jpg\n",
            "[%] File Downloaded !\n",
            "\n",
            "[%] Downloading Image #17 from https://i.pinimg.com/originals/f6/58/35/f658354df1fd6cdd22049f5b0cf1f772.jpg\n",
            "[%] File Downloaded !\n",
            "\n",
            "[%] Downloading Image #18 from http://1.bp.blogspot.com/-fJ1b6wGmK60/UCZGvqFaEJI/AAAAAAAABaU/RAIlWpNgOAo/w1200-h630-p-k-no-nu/Sumatran-Elephant.jpg\n",
            "[%] File Downloaded !\n",
            "\n",
            "[%] Downloading Image #19 from https://i.pinimg.com/originals/29/be/97/29be97af416ec75f50b460d992b8a953.jpg\n",
            "[%] File Downloaded !\n",
            "\n",
            "[%] Downloading Image #20 from https://www.refinery29.com/images/8636925.jpg?crop=2000%2C1051%2Cx0%2Cy201\n",
            "[%] File Downloaded !\n",
            "\n",
            "[%] Downloading Image #21 from http://3.bp.blogspot.com/-6haGXgfBuKU/UCZGulPpUXI/AAAAAAAABaM/qySkEMokjKQ/s1600/Sumatran-Elephant-3.jpg\n",
            "[%] File Downloaded !\n",
            "\n",
            "[%] Downloading Image #22 from https://i.ytimg.com/vi/MNL_Wn9xXec/maxresdefault.jpg\n",
            "[%] File Downloaded !\n",
            "\n",
            "[%] Downloading Image #23 from https://i.pinimg.com/originals/5b/70/5e/5b705e17021c9a2d092791d97f768e4e.jpg\n",
            "[%] File Downloaded !\n",
            "\n",
            "[%] Downloading Image #24 from https://africageographic.com/wp-content/uploads/2015/04/elephant-angry.jpg\n",
            "[%] File Downloaded !\n",
            "\n",
            "[%] Downloading Image #25 from https://3.bp.blogspot.com/_W90V87w3sr8/TUQi_qJ6mbI/AAAAAAAAAqk/Rw32EosM07E/s320/Wild_elephant.jpg\n",
            "[%] File Downloaded !\n",
            "\n",
            "[%] Downloading Image #26 from https://www.scienceabc.com/wp-content/uploads/2015/09/elephants-playing.jpg\n",
            "[%] File Downloaded !\n",
            "\n",
            "[%] Downloading Image #27 from https://www.willflyforfood.net/wp-content/uploads/2018/02/elephant-nature-park17.jpg\n",
            "[%] File Downloaded !\n",
            "\n",
            "[%] Downloading Image #28 from https://i.pinimg.com/originals/ee/8f/7d/ee8f7d583227c4f189a60e4e7e1a280c.jpg\n",
            "[%] File Downloaded !\n",
            "\n",
            "[%] Downloading Image #29 from https://i.pinimg.com/736x/b4/08/97/b40897a808c5dea5962d3d0bf608347f--dream-come-true-elephant.jpg\n",
            "[%] File Downloaded !\n",
            "\n",
            "[%] Downloading Image #30 from https://www.willflyforfood.net/uploads/food-travel5/thailand/chiang-mai/elephant-nature-park/elephant-nature-park21.jpg\n",
            "[%] File Downloaded !\n",
            "\n",
            "[%] Downloading Image #31 from https://www.theanimalclub.net/wp-content/uploads/sites/3/2019/08/provo.jpg\n",
            "[%] File Downloaded !\n",
            "\n",
            "[%] Downloading Image #32 from https://www.willflyforfood.net/wp-content/uploads/2018/02/elephant-nature-park30.jpg\n",
            "[%] File Downloaded !\n",
            "\n",
            "[%] Downloading Image #33 from https://africawild-forum.com/download/file.php?id=940&amp;t=0\n",
            "[%] File Downloaded !\n",
            "\n",
            "[%] Downloading Image #34 from https://en.stories.newsner.com/wp-content/uploads/sites/3/2019/07/elephant.jpg\n",
            "[%] File Downloaded !\n",
            "\n",
            "[%] Downloading Image #35 from http://4.bp.blogspot.com/_W90V87w3sr8/TP3Z3Rf7trI/AAAAAAAAAXw/W5dr-Pf_dfs/s1600/27219.jpg\n",
            "[%] File Downloaded !\n",
            "\n",
            "[%] Downloading Image #36 from https://www.thebooktrail.com/wp-content/uploads/2018/08/11-3.jpg\n",
            "[%] File Downloaded !\n",
            "\n",
            "[%] Downloading Image #37 from https://imgix.ranker.com/list_img_v2/19520/2559520/original/story-of-jumbo-the-elephant?w=817&amp;h=427&amp;fm=jpg&amp;q=50&amp;fit=crop\n",
            "[Error]Invalid image, not saving https://imgix.ranker.com/list_img_v2/19520/2559520/original/story-of-jumbo-the-elephant?w=817&amp;h=427&amp;fm=jpg&amp;q=50&amp;fit=crop\n",
            "\n",
            "[!] Issue getting: https://imgix.ranker.com/list_img_v2/19520/2559520/original/story-of-jumbo-the-elephant?w=817&amp;h=427&amp;fm=jpg&amp;q=50&amp;fit=crop\n",
            "[!] Error:: Invalid image, not saving https://imgix.ranker.com/list_img_v2/19520/2559520/original/story-of-jumbo-the-elephant?w=817&amp;h=427&amp;fm=jpg&amp;q=50&amp;fit=crop\n",
            "\n",
            "[%] Downloading Image #37 from https://i.pinimg.com/originals/84/ef/95/84ef950229ef26836fe2d9dbb4eda95c.png\n",
            "[%] File Downloaded !\n",
            "\n",
            "[%] Downloading Image #38 from https://i.pinimg.com/originals/27/d8/32/27d832157338274cc732944816a818ff.jpg\n",
            "[%] File Downloaded !\n",
            "\n",
            "[%] Downloading Image #39 from https://i.pinimg.com/originals/f8/9b/bc/f89bbc93a20aedb3babe6175b0b361b6.jpg\n",
            "[%] File Downloaded !\n",
            "\n",
            "[%] Downloading Image #40 from https://static.scientificamerican.com/blogs/cache/file/6B79142C-1831-4B46-9479209203F3E907_source.jpg?w=590&amp;h=800&amp;BD3FEC60-0567-4CC8-9908D1CA4053308E\n",
            "[%] File Downloaded !\n",
            "\n",
            "[%] Downloading Image #41 from https://hwdsbcommons.s3.amazonaws.com/wp-content/uploads/sites/3646/2017/01/Elephant-Journey.jpg\n",
            "[%] File Downloaded !\n",
            "\n",
            "[%] Downloading Image #42 from https://i.pinimg.com/originals/be/92/02/be9202609002181f9396acf286798244.jpg\n",
            "[%] File Downloaded !\n",
            "\n",
            "[%] Downloading Image #43 from https://i.pinimg.com/originals/c1/c3/30/c1c330e605614e4d1fa6d47bac2c5507.jpg\n",
            "[%] File Downloaded !\n",
            "\n",
            "[%] Downloading Image #44 from https://cdn1.mosaicsinscience.org/wp-content/uploads/2018/07/07151338/IMG_5076.jpg\n",
            "[%] File Downloaded !\n",
            "\n",
            "[%] Downloading Image #45 from https://i.pinimg.com/originals/96/c6/eb/96c6eb74c5d2ffb01d195cbf544d7484.jpg\n",
            "[%] File Downloaded !\n",
            "\n",
            "[%] Downloading Image #46 from https://external-preview.redd.it/NSwf-UvZFey47wna3vBd8dv6sWGXue7ISUKQIDErCKo.jpg?auto=webp&amp;s=04cd2325aa94d69de63647443473998bb533fa24\n",
            "[!] Issue getting: https://external-preview.redd.it/NSwf-UvZFey47wna3vBd8dv6sWGXue7ISUKQIDErCKo.jpg?auto=webp&amp;s=04cd2325aa94d69de63647443473998bb533fa24\n",
            "[!] Error:: HTTP Error 403: Forbidden\n",
            "[%] Downloading Image #46 from https://i.ytimg.com/vi/uwRA85r2uSQ/maxresdefault.jpg\n",
            "[%] File Downloaded !\n",
            "\n",
            "[%] Downloading Image #47 from https://i.ytimg.com/vi/zjb6Thy4a3M/maxresdefault.jpg\n",
            "[%] File Downloaded !\n",
            "\n",
            "\n",
            "\n",
            "[!!]Indexing page: 2\n",
            "\n",
            "[%] Indexed 35 Images on Page 2.\n",
            "\n",
            "===============================================\n",
            "\n",
            "[%] Downloading Image #48 from https://www.willflyforfood.net/wp-content/uploads/2018/02/elephant-nature-park-featured-1024x683.jpg\n",
            "[%] File Downloaded !\n",
            "\n",
            "[%] Downloading Image #49 from https://i.pinimg.com/736x/13/5c/6b/135c6bf0212ab94c7c196a179dff8040--the-elephants.jpg\n",
            "[%] File Downloaded !\n",
            "\n",
            "[%] Downloading Image #50 from https://i2.wp.com/www.mahohboh.org/wp-content/uploads/2018/10/tga-to-great-a-number-1.jpg?resize=800%2C445&amp;ssl=1\n",
            "[%] File Downloaded !\n",
            "\n",
            "\n",
            "\n",
            "[%] Done. Downloaded 50 images.\n",
            "===============================================\n",
            "\n",
            "Please show your support here\n",
            "https://www.buymeacoffee.com/gurugaurav\n",
            "\n",
            "===============================================\n",
            "\n",
            "time: 21.5 s (started: 2021-06-24 14:08:26 +00:00)\n"
          ],
          "name": "stdout"
        }
      ]
    },
    {
      "cell_type": "code",
      "metadata": {
        "id": "Zk1LkgcUbQFI",
        "colab": {
          "base_uri": "https://localhost:8080/"
        },
        "outputId": "332731e0-46da-4f17-973f-ac3578a6fe2b"
      },
      "source": [
        "from bing_image_downloader import downloader\n",
        "downloader.download(\"Modern Cars\",limit=50,output_dir='images',adult_filter_off=True)"
      ],
      "execution_count": 39,
      "outputs": [
        {
          "output_type": "stream",
          "text": [
            "[%] Downloading Images to /content/images/Modern Cars\n",
            "\n",
            "\n",
            "[!!]Indexing page: 1\n",
            "\n",
            "[%] Indexed 50 Images on Page 1.\n",
            "\n",
            "===============================================\n",
            "\n",
            "[%] Downloading Image #1 from https://s24990.pcdn.co/wp-content/uploads/2019/08/2020-cars1.jpg\n",
            "[%] File Downloaded !\n",
            "\n",
            "[%] Downloading Image #2 from http://3.bp.blogspot.com/-itSs0vN44SM/VcPWXI2lgJI/AAAAAAAAGGY/kLjKcR1dlUI/s1600/IMG_0786new.jpg\n",
            "[%] File Downloaded !\n",
            "\n",
            "[%] Downloading Image #3 from https://www.carscoops.com/wp-content/uploads/2018/12/e950b438-mazda-rotary-sports-car-.jpg\n",
            "[%] File Downloaded !\n",
            "\n",
            "[%] Downloading Image #4 from https://images.summitmedia-digital.com/topgear/images/news/0_2016/03/17/camaro_zl1/camaro_zl1-1.jpg\n",
            "[%] File Downloaded !\n",
            "\n",
            "[%] Downloading Image #5 from https://www.carvideos.tv/uploads/video/2017/12/01/hq/h_5a3a794650098.jpg\n",
            "[%] File Downloaded !\n",
            "\n",
            "[%] Downloading Image #6 from https://i.ytimg.com/vi/lCqg4uZS0n0/maxresdefault.jpg\n",
            "[%] File Downloaded !\n",
            "\n",
            "[%] Downloading Image #7 from http://www.dragzine.com/image/2014/12/1622500_1375400719420765_2363028108076653340_o.jpg\n",
            "[%] File Downloaded !\n",
            "\n",
            "[%] Downloading Image #8 from https://www.roberteardleyskoda.co.uk/images/new-cars/07-01-2020/kamiq/2.jpg\n",
            "[%] File Downloaded !\n",
            "\n",
            "[%] Downloading Image #9 from https://www.nmradigital.com/wp-content/uploads/2016/12/Uncropped-2-777x437.jpg\n",
            "[%] File Downloaded !\n",
            "\n",
            "[%] Downloading Image #10 from https://i.pinimg.com/originals/89/22/26/892226f9f757359fe9bbdcb8e7085069.jpg\n",
            "[%] File Downloaded !\n",
            "\n",
            "[%] Downloading Image #11 from https://img.drivemag.net/media/default/0001/99/10873-NewMcLarenGTsuperlightGrandTouring-4308-default-large.jpeg\n",
            "[Error]Invalid image, not saving https://img.drivemag.net/media/default/0001/99/10873-NewMcLarenGTsuperlightGrandTouring-4308-default-large.jpeg\n",
            "\n",
            "[!] Issue getting: https://img.drivemag.net/media/default/0001/99/10873-NewMcLarenGTsuperlightGrandTouring-4308-default-large.jpeg\n",
            "[!] Error:: Invalid image, not saving https://img.drivemag.net/media/default/0001/99/10873-NewMcLarenGTsuperlightGrandTouring-4308-default-large.jpeg\n",
            "\n",
            "[%] Downloading Image #11 from https://i.ytimg.com/vi/GY-ZUa2Pq0I/maxresdefault.jpg\n",
            "[%] File Downloaded !\n",
            "\n",
            "[%] Downloading Image #12 from https://www.motorbiscuit.com/wp-content/uploads/2020/09/2022-Nissan-400Z-w-240Z-Nissan.jpg\n",
            "[%] File Downloaded !\n",
            "\n",
            "[%] Downloading Image #13 from https://i.pinimg.com/originals/fa/4c/23/fa4c2399643cda2f7495f234a7d59f77.png\n",
            "[%] File Downloaded !\n",
            "\n",
            "[%] Downloading Image #14 from http://jaikrishnaamaruti.com/uploads/truevalue_cars/0_13-08-2020_13-37-04.jpeg\n",
            "[%] File Downloaded !\n",
            "\n",
            "[%] Downloading Image #15 from https://cdn.luxatic.com/wp-content/uploads/2017/05/Bugatti-Atlantic-1.jpeg\n",
            "[%] File Downloaded !\n",
            "\n",
            "[%] Downloading Image #16 from https://www.nydailynews.com/resizer/dgehi3rN1TYIgU456eWY5zYsq7k=/1400x0/top/arc-anglerfish-arc2-prod-tronc.s3.amazonaws.com/public/3UHNVTTCSZYED6I2BM4ER767JM.jpg\n",
            "[%] File Downloaded !\n",
            "\n",
            "[%] Downloading Image #17 from https://i.ytimg.com/vi/YJ-vtIp8E18/maxresdefault.jpg\n",
            "[%] File Downloaded !\n",
            "\n",
            "[%] Downloading Image #18 from https://s3.caradvice.com.au/wp-content/uploads/2011/12/lamborghini-gallardo-super-trofeo-stradale-frankfurt-2011-01.jpg\n",
            "[%] File Downloaded !\n",
            "\n",
            "[%] Downloading Image #19 from https://www.inceptivemind.com/wp-content/uploads/2020/03/T.50-hypercar.jpg\n",
            "[%] File Downloaded !\n",
            "\n",
            "[%] Downloading Image #20 from https://hips.hearstapps.com/hmg-prod.s3.amazonaws.com/images/c101-lamborghini-sian-rds-final-150-1594215284.jpg?crop=1xw:0.8888888888888888xh;center,top&amp;resize=1200:*\n",
            "[%] File Downloaded !\n",
            "\n",
            "[%] Downloading Image #21 from https://media.bizj.us/view/img/10428487/bloomberg-car-dealership*1200xx4000-2250-0-209.jpg\n",
            "[%] File Downloaded !\n",
            "\n",
            "[%] Downloading Image #22 from https://51stateautos.com/wp-content/uploads/2016/03/2016_dodge_challenger-pic-8521345871255904597-1600x1200-1600x590.jpeg\n",
            "[%] File Downloaded !\n",
            "\n",
            "[%] Downloading Image #23 from http://www.onlineinvestingai.com/blog/wp-content/uploads/2010/08/new-car.jpg\n",
            "[%] File Downloaded !\n",
            "\n",
            "[%] Downloading Image #24 from http://s3.india.com/auto/wp-content/uploads/2017/07/maruti-vitara-brezza-accessory-package_827x510_71476955810.jpg\n",
            "[%] File Downloaded !\n",
            "\n",
            "[%] Downloading Image #25 from https://media.ed.edmunds-media.com/volkswagen/jetta/2012/carbuying/2012_volkswagen_jetta_f34_carbuying_52412_717.jpg\n",
            "[!] Issue getting: https://media.ed.edmunds-media.com/volkswagen/jetta/2012/carbuying/2012_volkswagen_jetta_f34_carbuying_52412_717.jpg\n",
            "[!] Error:: The read operation timed out\n",
            "[%] Downloading Image #25 from http://s24990.pcdn.co/wp-content/uploads/2019/06/New-Cars-to-Avoid-20.jpg\n",
            "[%] File Downloaded !\n",
            "\n",
            "[%] Downloading Image #26 from https://i.pinimg.com/originals/a8/af/a5/a8afa5dc39be3bfd75a04c1b72d77769.jpg\n",
            "[%] File Downloaded !\n",
            "\n",
            "[%] Downloading Image #27 from https://www.motorbiscuit.com/wp-content/uploads/2020/09/2022-Nissan-400Z-Nissan-3-1024x573.png\n",
            "[%] File Downloaded !\n",
            "\n",
            "[%] Downloading Image #28 from https://i.pinimg.com/originals/8f/6c/d6/8f6cd67a028e0acf7ebca5ba287f0ae5.jpg\n",
            "[%] File Downloaded !\n",
            "\n",
            "[%] Downloading Image #29 from https://live.staticflickr.com/6125/5983936974_57073cc28e_b.jpg\n",
            "[%] File Downloaded !\n",
            "\n",
            "[%] Downloading Image #30 from http://jaikrishnaamaruti.com/uploads/truevalue_cars/0_15-10-2020_09-58-23.jpeg\n",
            "[%] File Downloaded !\n",
            "\n",
            "[%] Downloading Image #31 from https://assets.newcars.com/images/car-pictures/original/2018-Honda-Accord-Sedan-LX-4dr-Sedan-Photo-2.png\n",
            "[%] File Downloaded !\n",
            "\n",
            "[%] Downloading Image #32 from https://www.leinsterexpress.ie/resizer/750/563/true/GN4_DAT_14036584.jpg--.jpg\n",
            "[%] File Downloaded !\n",
            "\n",
            "[%] Downloading Image #33 from https://images.fastcompany.net/image/upload/w_1280,f_auto,q_auto,fl_lossy/wp-cms/uploads/2019/08/p-1-90396527-bmw-made-a-car-out-of-the-blackest-black-hereand8217s-why-thatand8217s-a-terrible-idea.jpg\n",
            "[%] File Downloaded !\n",
            "\n",
            "[%] Downloading Image #34 from http://jaikrishnaamaruti.com/uploads/truevalue_cars/2_13-08-2020_13-37-04.jpeg\n",
            "[%] File Downloaded !\n",
            "\n",
            "[%] Downloading Image #35 from https://i.ytimg.com/vi/_n3XgyV9eu8/maxresdefault.jpg\n",
            "[%] File Downloaded !\n",
            "\n",
            "[%] Downloading Image #36 from http://st.motortrend.com/uploads/sites/5/2014/02/2014-Mazda2-back-view.jpg\n",
            "[%] File Downloaded !\n",
            "\n",
            "[%] Downloading Image #37 from https://thevaultzmag.com/images/2019/10/01/maxresdefault-1.jpg\n",
            "[%] File Downloaded !\n",
            "\n",
            "[%] Downloading Image #38 from https://images.cdn.autocar.co.uk/sites/autocar.co.uk/files/styles/gallery_slide/public/images/car-reviews/first-drives/legacy/lotus-elise-render0front.jpg?itok=0eWkb3-8\n",
            "[%] File Downloaded !\n",
            "\n",
            "[%] Downloading Image #39 from http://im.rediff.com/money/2011/nov/21suv1.jpg\n",
            "[%] File Downloaded !\n",
            "\n",
            "[%] Downloading Image #40 from https://consumer.tcimg.net/assets/18-10/module-3-img-94a26afce7219b59ddd584c74fba7d35.png\n",
            "[%] File Downloaded !\n",
            "\n",
            "[%] Downloading Image #41 from https://i.pinimg.com/originals/f4/2e/fd/f42efd08f70ce77fc8962bd598db30f1.jpg\n",
            "[%] File Downloaded !\n",
            "\n",
            "[%] Downloading Image #42 from http://i.kinja-img.com/gawker-media/image/upload/s--Hjp5CXTU--/c_scale,fl_progressive,q_80,w_800/kbpdw4hzla2vi1yjmobq.jpg\n",
            "[%] File Downloaded !\n",
            "\n",
            "[%] Downloading Image #43 from http://jaikrishnaamaruti.com/uploads/truevalue_cars/2_13-08-2020_12-34-19.jpeg\n",
            "[%] File Downloaded !\n",
            "\n",
            "[%] Downloading Image #44 from http://jaikrishnaamaruti.com/uploads/truevalue_cars/1_14-08-2020_10-51-03.jpeg\n",
            "[%] File Downloaded !\n",
            "\n",
            "[%] Downloading Image #45 from https://i.pinimg.com/originals/24/9e/3c/249e3c0a6c2c6bc4408f24d825b21b74.gif\n",
            "[%] File Downloaded !\n",
            "\n",
            "[%] Downloading Image #46 from https://4.bp.blogspot.com/-XNlYHkKwS8E/WpBYf_ZgZQI/AAAAAAAAPek/dAkEB5WZndsV6EqD5tZJd07NucJ_OIKNwCLcBGAs/s1600/a.jpg\n",
            "[%] File Downloaded !\n",
            "\n",
            "[%] Downloading Image #47 from https://im.rediff.com/money/2018/nov/14toyota2.jpg?w=670&amp;h=900\n",
            "[%] File Downloaded !\n",
            "\n",
            "[%] Downloading Image #48 from http://data1.ibtimes.co.in/en/full/658132/new-maruti-suzuki-true-value-outlet.jpg\n",
            "[%] File Downloaded !\n",
            "\n",
            "\n",
            "\n",
            "[!!]Indexing page: 2\n",
            "\n",
            "[%] Indexed 35 Images on Page 2.\n",
            "\n",
            "===============================================\n",
            "\n",
            "[%] Downloading Image #49 from https://s24990.pcdn.co/wp-content/uploads/2019/08/2020-cars1.jpg\n",
            "[%] File Downloaded !\n",
            "\n",
            "[%] Downloading Image #50 from http://3.bp.blogspot.com/-itSs0vN44SM/VcPWXI2lgJI/AAAAAAAAGGY/kLjKcR1dlUI/s1600/IMG_0786new.jpg\n",
            "[%] File Downloaded !\n",
            "\n",
            "\n",
            "\n",
            "[%] Done. Downloaded 50 images.\n",
            "===============================================\n",
            "\n",
            "Please show your support here\n",
            "https://www.buymeacoffee.com/gurugaurav\n",
            "\n",
            "===============================================\n",
            "\n",
            "time: 1min 32s (started: 2021-06-24 14:06:54 +00:00)\n"
          ],
          "name": "stdout"
        }
      ]
    },
    {
      "cell_type": "code",
      "metadata": {
        "id": "7rTFqEVhcPFZ",
        "colab": {
          "base_uri": "https://localhost:8080/"
        },
        "outputId": "7e4cb7d4-aafb-4b65-efc1-fb45aed9c6dc"
      },
      "source": [
        "!pip install ipython-autotime\n",
        "%load_ext autotime"
      ],
      "execution_count": 26,
      "outputs": [
        {
          "output_type": "stream",
          "text": [
            "Requirement already satisfied: ipython-autotime in /usr/local/lib/python3.7/dist-packages (0.3.1)\n",
            "Requirement already satisfied: ipython in /usr/local/lib/python3.7/dist-packages (from ipython-autotime) (5.5.0)\n",
            "Requirement already satisfied: decorator in /usr/local/lib/python3.7/dist-packages (from ipython->ipython-autotime) (4.4.2)\n",
            "Requirement already satisfied: simplegeneric>0.8 in /usr/local/lib/python3.7/dist-packages (from ipython->ipython-autotime) (0.8.1)\n",
            "Requirement already satisfied: pexpect; sys_platform != \"win32\" in /usr/local/lib/python3.7/dist-packages (from ipython->ipython-autotime) (4.8.0)\n",
            "Requirement already satisfied: pygments in /usr/local/lib/python3.7/dist-packages (from ipython->ipython-autotime) (2.6.1)\n",
            "Requirement already satisfied: setuptools>=18.5 in /usr/local/lib/python3.7/dist-packages (from ipython->ipython-autotime) (57.0.0)\n",
            "Requirement already satisfied: prompt-toolkit<2.0.0,>=1.0.4 in /usr/local/lib/python3.7/dist-packages (from ipython->ipython-autotime) (1.0.18)\n",
            "Requirement already satisfied: traitlets>=4.2 in /usr/local/lib/python3.7/dist-packages (from ipython->ipython-autotime) (5.0.5)\n",
            "Requirement already satisfied: pickleshare in /usr/local/lib/python3.7/dist-packages (from ipython->ipython-autotime) (0.7.5)\n",
            "Requirement already satisfied: ptyprocess>=0.5 in /usr/local/lib/python3.7/dist-packages (from pexpect; sys_platform != \"win32\"->ipython->ipython-autotime) (0.7.0)\n",
            "Requirement already satisfied: wcwidth in /usr/local/lib/python3.7/dist-packages (from prompt-toolkit<2.0.0,>=1.0.4->ipython->ipython-autotime) (0.2.5)\n",
            "Requirement already satisfied: six>=1.9.0 in /usr/local/lib/python3.7/dist-packages (from prompt-toolkit<2.0.0,>=1.0.4->ipython->ipython-autotime) (1.15.0)\n",
            "Requirement already satisfied: ipython-genutils in /usr/local/lib/python3.7/dist-packages (from traitlets>=4.2->ipython->ipython-autotime) (0.2.0)\n",
            "The autotime extension is already loaded. To reload it, use:\n",
            "  %reload_ext autotime\n",
            "time: 2.74 s (started: 2021-06-24 13:57:33 +00:00)\n"
          ],
          "name": "stdout"
        }
      ]
    },
    {
      "cell_type": "code",
      "metadata": {
        "colab": {
          "base_uri": "https://localhost:8080/"
        },
        "id": "dIP8BTrSc0ZR",
        "outputId": "4a4fb031-c603-4fca-bba5-21b4a8e6c956"
      },
      "source": [
        "import os\n",
        "import matplotlib.pyplot as plt\n",
        "import numpy as np\n",
        "from skimage.io import imread\n",
        "from skimage.transform import resize\n",
        "target=[]\n",
        "images=[]\n",
        "flat_data=[]\n",
        "DATADIR='/content/images'\n",
        "CATEGORIES=['dogs','elephant','Modern Cars']\n",
        "for category in CATEGORIES:\n",
        "  class_num=CATEGORIES.index(category)\n",
        "  path=os.path.join(DATADIR,category)\n",
        "  for img in os.listdir(path):\n",
        "    img_array=imread(os.path.join(path,img))\n",
        "    #plt.imshow(img_array)\n",
        "    img_resized=resize(img_array,(150,150,3))\n",
        "    flat_data.append(img_resized.flatten())\n",
        "    images.append(img_resized)\n",
        "    target.append(class_num)\n",
        "flat_data=np.array(flat_data)\n",
        "target=np.array(target)\n",
        "images=np.array(images)\n",
        "    \n",
        "\n"
      ],
      "execution_count": 27,
      "outputs": [
        {
          "output_type": "stream",
          "text": [
            "time: 49.6 s (started: 2021-06-24 13:57:37 +00:00)\n"
          ],
          "name": "stdout"
        }
      ]
    },
    {
      "cell_type": "code",
      "metadata": {
        "colab": {
          "base_uri": "https://localhost:8080/"
        },
        "id": "SV2ffFXzlcJ4",
        "outputId": "61f484ed-ba00-4b4c-9136-21327ec723e4"
      },
      "source": [
        "from sklearn.model_selection import train_test_split\n",
        "x_train,x_test,y_train,y_test=train_test_split(flat_data,target,test_size=0.3,random_state=100)\n"
      ],
      "execution_count": 28,
      "outputs": [
        {
          "output_type": "stream",
          "text": [
            "time: 30.3 ms (started: 2021-06-24 13:58:36 +00:00)\n"
          ],
          "name": "stdout"
        }
      ]
    },
    {
      "cell_type": "code",
      "metadata": {
        "id": "qRlM2K1qoDLg",
        "colab": {
          "base_uri": "https://localhost:8080/"
        },
        "outputId": "90112b27-8157-4f61-a0f9-2c0ed461e9eb"
      },
      "source": [
        "from sklearn.model_selection import GridSearchCV\n",
        "from sklearn import svm\n",
        "param_grid=[\n",
        "            {'C':[1,10,100,1000],'kernel':['linear']},\n",
        "            {'C':[1,10,100,1000],'gamma':[0.001,0.0001],'kernel':['rbf']},\n",
        "]\n",
        "svc=svm.SVC(probability=True)\n",
        "clf=GridSearchCV(svc,param_grid)\n",
        "clf.fit(x_train,y_train)"
      ],
      "execution_count": 42,
      "outputs": [
        {
          "output_type": "execute_result",
          "data": {
            "text/plain": [
              "GridSearchCV(cv=None, error_score=nan,\n",
              "             estimator=SVC(C=1.0, break_ties=False, cache_size=200,\n",
              "                           class_weight=None, coef0=0.0,\n",
              "                           decision_function_shape='ovr', degree=3,\n",
              "                           gamma='scale', kernel='rbf', max_iter=-1,\n",
              "                           probability=True, random_state=None, shrinking=True,\n",
              "                           tol=0.001, verbose=False),\n",
              "             iid='deprecated', n_jobs=None,\n",
              "             param_grid=[{'C': [1, 10, 100, 1000], 'kernel': ['linear']},\n",
              "                         {'C': [1, 10, 100, 1000], 'gamma': [0.001, 0.0001],\n",
              "                          'kernel': ['rbf']}],\n",
              "             pre_dispatch='2*n_jobs', refit=True, return_train_score=False,\n",
              "             scoring=None, verbose=0)"
            ]
          },
          "metadata": {
            "tags": []
          },
          "execution_count": 42
        },
        {
          "output_type": "stream",
          "text": [
            "time: 5min 34s (started: 2021-06-24 14:08:48 +00:00)\n"
          ],
          "name": "stdout"
        }
      ]
    },
    {
      "cell_type": "code",
      "metadata": {
        "id": "jsx5YreqrVeN",
        "colab": {
          "base_uri": "https://localhost:8080/"
        },
        "outputId": "8d2aba2a-8566-4f57-d705-7aa3fecf9053"
      },
      "source": [
        "y_pred=clf.predict(x_test)\n",
        "y_pred"
      ],
      "execution_count": 43,
      "outputs": [
        {
          "output_type": "execute_result",
          "data": {
            "text/plain": [
              "array([2, 1, 2, 0, 0, 0, 1, 1, 2, 0, 2, 2, 0, 2, 2, 1, 1, 1, 0, 2, 2, 2,\n",
              "       2, 0, 1, 2, 1, 1, 1, 2, 1, 1, 2, 0, 1, 1, 0, 0, 2, 0, 0, 1, 2, 1,\n",
              "       0])"
            ]
          },
          "metadata": {
            "tags": []
          },
          "execution_count": 43
        },
        {
          "output_type": "stream",
          "text": [
            "time: 541 ms (started: 2021-06-24 14:14:23 +00:00)\n"
          ],
          "name": "stdout"
        }
      ]
    },
    {
      "cell_type": "code",
      "metadata": {
        "id": "LLdGgbO8rmMR",
        "colab": {
          "base_uri": "https://localhost:8080/"
        },
        "outputId": "32f2b40e-9fe0-4d64-c794-7e4cfc0ad204"
      },
      "source": [
        "from sklearn.metrics import accuracy_score,confusion_matrix"
      ],
      "execution_count": 45,
      "outputs": [
        {
          "output_type": "stream",
          "text": [
            "time: 1.09 ms (started: 2021-06-24 14:14:29 +00:00)\n"
          ],
          "name": "stdout"
        }
      ]
    },
    {
      "cell_type": "code",
      "metadata": {
        "id": "28BfplB5r4LA",
        "colab": {
          "base_uri": "https://localhost:8080/"
        },
        "outputId": "7049487e-e65c-4165-e5ff-c4163c651884"
      },
      "source": [
        "accuracy_score(y_pred,y_test)"
      ],
      "execution_count": 46,
      "outputs": [
        {
          "output_type": "execute_result",
          "data": {
            "text/plain": [
              "0.6888888888888889"
            ]
          },
          "metadata": {
            "tags": []
          },
          "execution_count": 46
        },
        {
          "output_type": "stream",
          "text": [
            "time: 5.08 ms (started: 2021-06-24 14:14:32 +00:00)\n"
          ],
          "name": "stdout"
        }
      ]
    },
    {
      "cell_type": "code",
      "metadata": {
        "id": "Y8dAGm7hrVbX",
        "colab": {
          "base_uri": "https://localhost:8080/"
        },
        "outputId": "4fae4adf-0ba8-4551-8023-38328c4b60b2"
      },
      "source": [
        "import pickle\n",
        "pickle.dump(clf,open('img_model.p','wb'))"
      ],
      "execution_count": 47,
      "outputs": [
        {
          "output_type": "stream",
          "text": [
            "time: 79.3 ms (started: 2021-06-24 14:14:37 +00:00)\n"
          ],
          "name": "stdout"
        }
      ]
    },
    {
      "cell_type": "code",
      "metadata": {
        "id": "KgQFzjlVxdS6",
        "colab": {
          "base_uri": "https://localhost:8080/"
        },
        "outputId": "51f49c7f-3cab-4fee-a2ed-65a9f83b3cc8"
      },
      "source": [
        "model=pickle.load(open('img_model.p','rb'))"
      ],
      "execution_count": 48,
      "outputs": [
        {
          "output_type": "stream",
          "text": [
            "time: 42.5 ms (started: 2021-06-24 14:14:42 +00:00)\n"
          ],
          "name": "stdout"
        }
      ]
    },
    {
      "cell_type": "code",
      "metadata": {
        "id": "u2rfKfwQs4VC",
        "colab": {
          "base_uri": "https://localhost:8080/",
          "height": 340
        },
        "outputId": "c2aaccb4-3bbe-4fae-adc7-fae59c44c436"
      },
      "source": [
        "flat_data=[]\n",
        "url=input('enter your url')\n",
        "img=imread(url)\n",
        "img_resized=resize(img,(150,150,3))\n",
        "flat_data.append(img_resized.flatten())\n",
        "flat_data=np.array(flat_data)\n",
        "print(img.shape)\n",
        "plt.imshow(img_resized)\n",
        "y_out=model.predict(flat_data)\n",
        "y_out=CATEGORIES[y_out[0]]\n",
        "print(f'PREDICTED OUTPUT:{y_out}')\n"
      ],
      "execution_count": 52,
      "outputs": [
        {
          "output_type": "stream",
          "text": [
            "enter your urlhttps://upload.wikimedia.org/wikipedia/commons/thumb/8/84/African_elephant_%28Loxodonta_africana%29_2.jpg/1200px-African_elephant_%28Loxodonta_africana%29_2.jpg\n",
            "(800, 1200, 3)\n",
            "PREDICTED OUTPUT:elephant\n"
          ],
          "name": "stdout"
        },
        {
          "output_type": "display_data",
          "data": {
            "image/png": "[encoded data removed]",
            "text/plain": [
              "<Figure size 432x288 with 1 Axes>"
            ]
          },
          "metadata": {
            "tags": [],
            "needs_background": "light"
          }
        },
        {
          "output_type": "stream",
          "text": [
            "time: 5.12 s (started: 2021-06-24 14:16:13 +00:00)\n"
          ],
          "name": "stdout"
        }
      ]
    }
  ]
}